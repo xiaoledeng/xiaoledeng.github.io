{
 "cells": [
  {
   "cell_type": "code",
   "execution_count": 7,
   "metadata": {},
   "outputs": [
    {
     "name": "stdout",
     "output_type": "stream",
     "text": [
      "Found existing installation: latexify-py 0.0.7\n",
      "Uninstalling latexify-py-0.0.7:\n",
      "  Successfully uninstalled latexify-py-0.0.7\n",
      "Collecting latexify-py\n",
      "  Using cached latexify_py-0.0.7-py3-none-any.whl (9.0 kB)\n",
      "Requirement already satisfied: dill>=0.3.2 in /Users/shalom/anaconda3/lib/python3.7/site-packages (from latexify-py) (0.3.2)\n",
      "Installing collected packages: latexify-py\n",
      "Successfully installed latexify-py-0.0.7\n",
      "\u001b[33mWARNING: You are using pip version 20.1.1; however, version 20.2.2 is available.\n",
      "You should consider upgrading via the '/Users/shalom/anaconda3/bin/python3 -m pip install --upgrade pip' command.\u001b[0m\n"
     ]
    }
   ],
   "source": [
    "!pip uninstall -y latexify-py # 卸载latexify-py\n",
    "!pip install latexify-py # 安装latexify-py"
   ]
  },
  {
   "cell_type": "code",
   "execution_count": 8,
   "metadata": {},
   "outputs": [],
   "source": [
    "# Before running following cells, restart the runtime so that the installed\n",
    "# module is activated.\n",
    "import math\n",
    "import latexify"
   ]
  },
  {
   "cell_type": "code",
   "execution_count": 9,
   "metadata": {},
   "outputs": [
    {
     "name": "stdout",
     "output_type": "stream",
     "text": [
      "-1.0\n",
      "\\mathrm{solve}(a, b, c)\\triangleq \\frac{-b + \\sqrt{b^{2} - 4ac}}{2a}\n"
     ]
    },
    {
     "data": {
      "text/latex": [
       "$$ \\displaystyle \\mathrm{solve}(a, b, c)\\triangleq \\frac{-b + \\sqrt{b^{2} - 4ac}}{2a} $$"
      ],
      "text/plain": [
       "<latexify.core.with_latex.<locals>._LatexifiedFunction at 0x7fc360562d50>"
      ]
     },
     "execution_count": 9,
     "metadata": {},
     "output_type": "execute_result"
    }
   ],
   "source": [
    "@latexify.with_latex\n",
    "def solve(a, b, c):\n",
    "  return (-b + math.sqrt(b**2 - 4*a*c)) / (2*a)\n",
    "\n",
    "print(solve(1, 4, 3))\n",
    "print(solve)\n",
    "\n",
    "solve"
   ]
  },
  {
   "cell_type": "code",
   "execution_count": 10,
   "metadata": {},
   "outputs": [
    {
     "name": "stdout",
     "output_type": "stream",
     "text": [
      "\\mathrm{sinc}(x)\\triangleq \\left\\{ \\begin{array}{ll} 1, & \\mathrm{if} \\ x=0 \\\\ \\frac{\\sin{\\left({x}\\right)}}{x}, & \\mathrm{otherwise} \\end{array} \\right.\n"
     ]
    },
    {
     "data": {
      "text/latex": [
       "$$ \\displaystyle \\mathrm{sinc}(x)\\triangleq \\left\\{ \\begin{array}{ll} 1, & \\mathrm{if} \\ x=0 \\\\ \\frac{\\sin{\\left({x}\\right)}}{x}, & \\mathrm{otherwise} \\end{array} \\right. $$"
      ],
      "text/plain": [
       "<latexify.core.with_latex.<locals>._LatexifiedFunction at 0x7fc36055ca10>"
      ]
     },
     "execution_count": 10,
     "metadata": {},
     "output_type": "execute_result"
    }
   ],
   "source": [
    "@latexify.with_latex\n",
    "def sinc(x):\n",
    "  if x == 0:\n",
    "    return 1\n",
    "  else:\n",
    "    return math.sin(x) / x\n",
    "\n",
    "print(sinc)\n",
    "sinc"
   ]
  },
  {
   "cell_type": "code",
   "execution_count": 11,
   "metadata": {},
   "outputs": [
    {
     "name": "stdout",
     "output_type": "stream",
     "text": [
      "\\mathrm{fib}(x)\\triangleq \\left\\{ \\begin{array}{ll} 1, & \\mathrm{if} \\ x=0 \\\\ 1, & \\mathrm{if} \\ x=1 \\\\ \\mathrm{fib}\\left(x - 1\\right) + \\mathrm{fib}\\left(x - 2\\right), & \\mathrm{otherwise} \\end{array} \\right.\n"
     ]
    },
    {
     "data": {
      "text/latex": [
       "$$ \\displaystyle \\mathrm{fib}(x)\\triangleq \\left\\{ \\begin{array}{ll} 1, & \\mathrm{if} \\ x=0 \\\\ 1, & \\mathrm{if} \\ x=1 \\\\ \\mathrm{fib}\\left(x - 1\\right) + \\mathrm{fib}\\left(x - 2\\right), & \\mathrm{otherwise} \\end{array} \\right. $$"
      ],
      "text/plain": [
       "<latexify.core.with_latex.<locals>._LatexifiedFunction at 0x7fc360566f50>"
      ]
     },
     "execution_count": 11,
     "metadata": {},
     "output_type": "execute_result"
    }
   ],
   "source": [
    "# Elif or nested else-if are unrolled.\n",
    "@latexify.with_latex\n",
    "def fib(x):\n",
    "  if x == 0:\n",
    "    return 1\n",
    "  elif x == 1:\n",
    "    return 1\n",
    "  else:\n",
    "    return fib(x-1) + fib(x-2)\n",
    "\n",
    "print(fib)\n",
    "fib"
   ]
  },
  {
   "cell_type": "code",
   "execution_count": 12,
   "metadata": {},
   "outputs": [
    {
     "name": "stdout",
     "output_type": "stream",
     "text": [
      "\\mathrm{greek}({\\alpha}, {\\beta}, {\\gamma}, {\\Omega})\\triangleq {\\alpha}{\\beta} + \\Gamma\\left({{\\gamma}}\\right) + {\\Omega}\n"
     ]
    },
    {
     "data": {
      "text/latex": [
       "$$ \\displaystyle \\mathrm{greek}({\\alpha}, {\\beta}, {\\gamma}, {\\Omega})\\triangleq {\\alpha}{\\beta} + \\Gamma\\left({{\\gamma}}\\right) + {\\Omega} $$"
      ],
      "text/plain": [
       "<latexify.core.with_latex.<locals>._LatexifiedFunction at 0x7fc36055c8d0>"
      ]
     },
     "execution_count": 12,
     "metadata": {},
     "output_type": "execute_result"
    }
   ],
   "source": [
    "# Some math symbols are converted automatically.\n",
    "@latexify.with_latex\n",
    "def greek(alpha, beta, gamma, Omega):\n",
    "  return alpha * beta + math.gamma(gamma) + Omega\n",
    "\n",
    "print(greek)\n",
    "greek"
   ]
  }
 ],
 "metadata": {
  "kernelspec": {
   "display_name": "Python 3",
   "language": "python",
   "name": "python3"
  },
  "language_info": {
   "codemirror_mode": {
    "name": "ipython",
    "version": 3
   },
   "file_extension": ".py",
   "mimetype": "text/x-python",
   "name": "python",
   "nbconvert_exporter": "python",
   "pygments_lexer": "ipython3",
   "version": "3.7.4"
  }
 },
 "nbformat": 4,
 "nbformat_minor": 2
}
